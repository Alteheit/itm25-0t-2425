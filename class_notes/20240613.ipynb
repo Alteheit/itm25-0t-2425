{
 "cells": [
  {
   "cell_type": "markdown",
   "id": "7e5e1929-9f9e-4203-bc29-8289b73b2962",
   "metadata": {},
   "source": [
    "## List"
   ]
  },
  {
   "cell_type": "code",
   "execution_count": 17,
   "id": "e602adaf-f170-438c-a96d-573a3e867cc1",
   "metadata": {
    "tags": []
   },
   "outputs": [
    {
     "name": "stdout",
     "output_type": "stream",
     "text": [
      "0 A\n",
      "1 B\n",
      "2 C\n",
      "3 D\n",
      "4 E\n"
     ]
    }
   ],
   "source": [
    "my_list = list(\"ABCDE\")\n",
    "\n",
    "for i in range(0, len(my_list)):\n",
    "    element = my_list[i]\n",
    "    print(i, element)"
   ]
  },
  {
   "cell_type": "code",
   "execution_count": 22,
   "id": "2b3e9f0c-bfe5-494e-949b-89da224316c7",
   "metadata": {
    "tags": []
   },
   "outputs": [
    {
     "name": "stdout",
     "output_type": "stream",
     "text": [
      "0 A\n",
      "1 B\n",
      "2 C\n",
      "3 D\n",
      "4 E\n"
     ]
    }
   ],
   "source": [
    "my_list = list(\"ABCDE\")\n",
    "\n",
    "for i, element in enumerate(my_list):\n",
    "    print(i, element)"
   ]
  },
  {
   "cell_type": "code",
   "execution_count": 20,
   "id": "62f25bcd-45be-42ec-8202-154b2fea761e",
   "metadata": {
    "tags": []
   },
   "outputs": [
    {
     "data": {
      "text/plain": [
       "[(0, 'A'), (1, 'B'), (2, 'C'), (3, 'D'), (4, 'E')]"
      ]
     },
     "execution_count": 20,
     "metadata": {},
     "output_type": "execute_result"
    }
   ],
   "source": [
    "list(enumerate(my_list))"
   ]
  },
  {
   "cell_type": "markdown",
   "id": "7521a3fa-3f9d-4201-8217-09d567814987",
   "metadata": {},
   "source": [
    "## Dictionary"
   ]
  },
  {
   "cell_type": "code",
   "execution_count": 24,
   "id": "e7ddcc83-6eae-44de-8e8c-0a545ac04e39",
   "metadata": {
    "tags": []
   },
   "outputs": [
    {
     "data": {
      "text/plain": [
       "{1: 'one', 2: 'two', 3: 'three'}"
      ]
     },
     "execution_count": 24,
     "metadata": {},
     "output_type": "execute_result"
    }
   ],
   "source": [
    "{1: 'one', 2: 'two', 3: 'three'}"
   ]
  },
  {
   "cell_type": "code",
   "execution_count": 27,
   "id": "03ec7b66-8e5d-45b8-9311-04c74dd92f58",
   "metadata": {
    "tags": []
   },
   "outputs": [
    {
     "data": {
      "text/plain": [
       "'three'"
      ]
     },
     "execution_count": 27,
     "metadata": {},
     "output_type": "execute_result"
    }
   ],
   "source": [
    "my_dictionary = {1: 'one', 2: 'two', 3: 'three'}\n",
    "my_dictionary.update({4: 'four'})\n",
    "\n",
    "my_dictionary[3]"
   ]
  },
  {
   "cell_type": "code",
   "execution_count": 28,
   "id": "b14d3df0-08aa-450d-8a8b-46c6d2373e77",
   "metadata": {
    "tags": []
   },
   "outputs": [
    {
     "data": {
      "text/plain": [
       "'Joe Ilagan'"
      ]
     },
     "execution_count": 28,
     "metadata": {},
     "output_type": "execute_result"
    }
   ],
   "source": [
    "users = {'joe.s.ilagan@gmail.com': 'Joe Ilagan'}\n",
    "\n",
    "users['joe.s.ilagan@gmail.com']"
   ]
  },
  {
   "cell_type": "code",
   "execution_count": 30,
   "id": "2a7ddb7f-b542-40d1-97ab-3e61cac7f0ab",
   "metadata": {
    "tags": []
   },
   "outputs": [
    {
     "data": {
      "text/plain": [
       "{2: 'two', 3: 'three', 4: 'four'}"
      ]
     },
     "execution_count": 30,
     "metadata": {},
     "output_type": "execute_result"
    }
   ],
   "source": [
    "my_dictionary = {1: 'one', 2: 'two', 3: 'three'}\n",
    "del my_dictionary[1]\n",
    "my_dictionary[4] = 'four'\n",
    "\n",
    "my_dictionary"
   ]
  },
  {
   "cell_type": "code",
   "execution_count": 31,
   "id": "37657638-18f1-473d-ac8b-fc98371671f3",
   "metadata": {
    "tags": []
   },
   "outputs": [
    {
     "name": "stdout",
     "output_type": "stream",
     "text": [
      "1\n",
      "2\n",
      "3\n"
     ]
    }
   ],
   "source": [
    "my_dictionary = {1: 'one', 2: 'two', 3: 'three'}\n",
    "\n",
    "for k in my_dictionary.keys():\n",
    "    print(k)"
   ]
  },
  {
   "cell_type": "code",
   "execution_count": 33,
   "id": "b3644ea2-1bc5-424a-87a1-9d8ca88062f7",
   "metadata": {
    "tags": []
   },
   "outputs": [
    {
     "name": "stdout",
     "output_type": "stream",
     "text": [
      "one\n",
      "two\n",
      "three\n"
     ]
    }
   ],
   "source": [
    "my_dictionary = {1: 'one', 2: 'two', 3: 'three'}\n",
    "\n",
    "for v in my_dictionary.values():\n",
    "    print(v)"
   ]
  },
  {
   "cell_type": "code",
   "execution_count": 34,
   "id": "dba37fed-1761-4e88-80d8-6441e02a120d",
   "metadata": {
    "tags": []
   },
   "outputs": [
    {
     "name": "stdout",
     "output_type": "stream",
     "text": [
      "1 one\n",
      "2 two\n",
      "3 three\n"
     ]
    }
   ],
   "source": [
    "my_dictionary = {1: 'one', 2: 'two', 3: 'three'}\n",
    "\n",
    "for k, v in my_dictionary.items():\n",
    "    print(k, v)"
   ]
  },
  {
   "cell_type": "code",
   "execution_count": 36,
   "id": "3dfedb3d-7817-4d69-b85f-7e8d0f458529",
   "metadata": {
    "tags": []
   },
   "outputs": [
    {
     "data": {
      "text/plain": [
       "{1: 'wan', 2: 'two', 3: 'three'}"
      ]
     },
     "execution_count": 36,
     "metadata": {},
     "output_type": "execute_result"
    }
   ],
   "source": [
    "my_dictionary = {1: 'one', 2: 'two', 3: 'three'}\n",
    "\n",
    "my_dictionary[1] = 'wan'\n",
    "\n",
    "my_dictionary"
   ]
  },
  {
   "cell_type": "code",
   "execution_count": 37,
   "id": "1182d476-804e-40d5-9773-6cb43018b620",
   "metadata": {
    "tags": []
   },
   "outputs": [
    {
     "data": {
      "text/plain": [
       "[1, 1, 1, 2, 3, 1]"
      ]
     },
     "execution_count": 37,
     "metadata": {},
     "output_type": "execute_result"
    }
   ],
   "source": [
    "[1, 1, 1, 2, 3, 1]"
   ]
  },
  {
   "cell_type": "code",
   "execution_count": 39,
   "id": "3c2a18a9-68e4-493e-8929-8c01f67ceb0b",
   "metadata": {
    "tags": []
   },
   "outputs": [
    {
     "data": {
      "text/plain": [
       "{1, 2, 3}"
      ]
     },
     "execution_count": 39,
     "metadata": {},
     "output_type": "execute_result"
    }
   ],
   "source": [
    "set([1, 1, 1, 2, 3, 1])"
   ]
  },
  {
   "cell_type": "code",
   "execution_count": 40,
   "id": "1674f81a-d45f-4dea-9fc0-fe0204452b3b",
   "metadata": {
    "tags": []
   },
   "outputs": [
    {
     "data": {
      "text/plain": [
       "(1, 2, 3)"
      ]
     },
     "execution_count": 40,
     "metadata": {},
     "output_type": "execute_result"
    }
   ],
   "source": [
    "(1, 2, 3)"
   ]
  },
  {
   "cell_type": "code",
   "execution_count": null,
   "id": "49681325-fd98-4e7e-a7e7-9524da1e2ff0",
   "metadata": {},
   "outputs": [],
   "source": [
    "[]\n",
    "- a list literal\n",
    "- an indexing operation\n",
    "\n",
    "{}\n",
    "- a dictionary literal\n",
    "- a set literal"
   ]
  },
  {
   "cell_type": "markdown",
   "id": "df390ac6-7dd5-47f2-90ab-d32451123957",
   "metadata": {},
   "source": [
    "## Mutability"
   ]
  },
  {
   "cell_type": "code",
   "execution_count": 41,
   "id": "87cfcdef-cab9-441f-bb4c-9a0abe5d3cce",
   "metadata": {
    "tags": []
   },
   "outputs": [
    {
     "data": {
      "text/plain": [
       "[1, 2, 3, 4]"
      ]
     },
     "execution_count": 41,
     "metadata": {},
     "output_type": "execute_result"
    }
   ],
   "source": [
    "my_list = [1, 2, 3]\n",
    "my_list_2 = my_list\n",
    "\n",
    "my_list.append(4)\n",
    "\n",
    "my_list_2"
   ]
  },
  {
   "cell_type": "code",
   "execution_count": 43,
   "id": "fe7d5449-72b6-4046-ae97-4cf028e54c88",
   "metadata": {
    "tags": []
   },
   "outputs": [
    {
     "data": {
      "text/plain": [
       "[1, 2, 3, 4]"
      ]
     },
     "execution_count": 43,
     "metadata": {},
     "output_type": "execute_result"
    }
   ],
   "source": [
    "def add_to_a_list(some_list):\n",
    "    some_list.append(4)\n",
    "    \n",
    "my_list = [1, 2, 3]\n",
    "my_list_2 = my_list\n",
    "\n",
    "add_to_a_list(my_list)\n",
    "\n",
    "my_list_2"
   ]
  },
  {
   "cell_type": "code",
   "execution_count": 46,
   "id": "96600cc5-6154-476c-a57d-307e49528885",
   "metadata": {
    "tags": []
   },
   "outputs": [
    {
     "data": {
      "text/plain": [
       "[1, 2, 3]"
      ]
     },
     "execution_count": 46,
     "metadata": {},
     "output_type": "execute_result"
    }
   ],
   "source": [
    "my_list = [1, 2, 3]\n",
    "\n",
    "my_list_2 = []\n",
    "for e in my_list:\n",
    "    my_list_2.append(e)\n",
    "    \n",
    "my_list.append(4)\n",
    "\n",
    "my_list_2"
   ]
  },
  {
   "cell_type": "markdown",
   "id": "47b22fc3-019e-4009-a1a3-36cf12c23784",
   "metadata": {},
   "source": [
    "## Data processing patterns"
   ]
  },
  {
   "cell_type": "code",
   "execution_count": 55,
   "id": "0ca42436-defd-4e2b-81ee-a7ce87c429e4",
   "metadata": {
    "tags": []
   },
   "outputs": [
    {
     "data": {
      "text/plain": [
       "['1',\n",
       " '2',\n",
       " '3',\n",
       " '4',\n",
       " '5',\n",
       " '6',\n",
       " '7',\n",
       " '8',\n",
       " '9',\n",
       " '10',\n",
       " '11',\n",
       " '12',\n",
       " '13',\n",
       " '14',\n",
       " '15',\n",
       " '16',\n",
       " '17',\n",
       " '18',\n",
       " '19',\n",
       " '20']"
      ]
     },
     "execution_count": 55,
     "metadata": {},
     "output_type": "execute_result"
    }
   ],
   "source": [
    "'''\n",
    "Map\n",
    "\n",
    "Given a list of numbers,\n",
    "raise each number to the power of 2\n",
    "'''\n",
    "\n",
    "l = list(range(1, 21))\n",
    "\n",
    "def transform(x):\n",
    "    return str(x)\n",
    "\n",
    "list(map(transform, l))"
   ]
  },
  {
   "cell_type": "code",
   "execution_count": 57,
   "id": "66c742b6-31ac-42c9-9d64-da50da94ed50",
   "metadata": {
    "tags": []
   },
   "outputs": [
    {
     "data": {
      "text/plain": [
       "[1, 3, 5, 7, 9, 11, 13, 15, 17, 19]"
      ]
     },
     "execution_count": 57,
     "metadata": {},
     "output_type": "execute_result"
    }
   ],
   "source": [
    "'''\n",
    "Filter\n",
    "\n",
    "Given a list of numbers,\n",
    "get only the even numbers\n",
    "'''\n",
    "\n",
    "l = list(range(1, 21))\n",
    "\n",
    "l2 = []\n",
    "for x in l:\n",
    "    if x % 2 == 0:\n",
    "        continue\n",
    "    l2.append(x)\n",
    "    \n",
    "l2"
   ]
  },
  {
   "cell_type": "code",
   "execution_count": 60,
   "id": "efc1adff-4c47-4b2e-9210-c055a5776e0d",
   "metadata": {
    "tags": []
   },
   "outputs": [
    {
     "data": {
      "text/plain": [
       "2432902008176640000"
      ]
     },
     "execution_count": 60,
     "metadata": {},
     "output_type": "execute_result"
    }
   ],
   "source": [
    "'''\n",
    "Reduction\n",
    "\n",
    "Given a list of numbers,\n",
    "get the product\n",
    "'''\n",
    "\n",
    "l = list(range(1, 21))\n",
    "\n",
    "my_product = 1\n",
    "for x in l:\n",
    "    my_product *= x\n",
    "    \n",
    "my_product"
   ]
  },
  {
   "cell_type": "code",
   "execution_count": 62,
   "id": "89528483-57ba-479e-af54-e2bbef310462",
   "metadata": {
    "tags": []
   },
   "outputs": [
    {
     "name": "stdout",
     "output_type": "stream",
     "text": [
      "4\n",
      "16\n",
      "36\n",
      "64\n",
      "100\n",
      "144\n",
      "196\n",
      "256\n",
      "324\n",
      "400\n"
     ]
    },
    {
     "data": {
      "text/plain": [
       "0"
      ]
     },
     "execution_count": 62,
     "metadata": {},
     "output_type": "execute_result"
    }
   ],
   "source": [
    "'''\n",
    "Given a list of numbers,\n",
    "get the sum of the squares of the even numbers\n",
    "'''\n",
    "\n",
    "l = list(range(1, 21))\n",
    "\n",
    "even_number_sum = 0\n",
    "for x in l:\n",
    "    if x % 2 != 0:\n",
    "        continue\n",
    "    square_x = x ** 2\n",
    "    even_number_sum += square_x\n",
    "    \n",
    "even_number_sum"
   ]
  },
  {
   "cell_type": "code",
   "execution_count": 63,
   "id": "0856d872-bed6-49f5-af42-6ddb88b8910d",
   "metadata": {
    "tags": []
   },
   "outputs": [
    {
     "data": {
      "text/plain": [
       "['A', 'B', 'C', 'D', 'E']"
      ]
     },
     "execution_count": 63,
     "metadata": {},
     "output_type": "execute_result"
    }
   ],
   "source": [
    "\"A,B,C,D,E\".split(',')"
   ]
  },
  {
   "cell_type": "code",
   "execution_count": 64,
   "id": "49e0a24e-2cef-485b-a5b6-c5e784c779e3",
   "metadata": {
    "tags": []
   },
   "outputs": [
    {
     "data": {
      "text/plain": [
       "[1, 2, 3, 4, 5, 6, 7, 8, 9]"
      ]
     },
     "execution_count": 64,
     "metadata": {},
     "output_type": "execute_result"
    }
   ],
   "source": [
    "l = [\n",
    "    [1, 2, 3],\n",
    "    [4, 5, 6],\n",
    "    [7, 8, 9],\n",
    "]\n",
    "\n",
    "l2 = []\n",
    "for sublist in l:\n",
    "    for element in sublist:\n",
    "        l2.append(element)\n",
    "        \n",
    "l2"
   ]
  },
  {
   "cell_type": "code",
   "execution_count": 67,
   "id": "a806717a-7176-4aa0-9c1c-af0c741e7958",
   "metadata": {
    "tags": []
   },
   "outputs": [
    {
     "data": {
      "text/plain": [
       "[2, 4, 6, 8, 10, 12, 14, 16, 18, 20]"
      ]
     },
     "execution_count": 67,
     "metadata": {},
     "output_type": "execute_result"
    }
   ],
   "source": [
    "l = list(range(1, 21))\n",
    "\n",
    "[x for x in l if x % 2 == 0]"
   ]
  },
  {
   "cell_type": "markdown",
   "id": "aa525d73-a19c-4af6-8b7f-250e894c4c21",
   "metadata": {},
   "source": [
    "## Exercises"
   ]
  },
  {
   "cell_type": "code",
   "execution_count": 97,
   "id": "55a6cda4-8cc1-49c0-85b3-0242c9c591e6",
   "metadata": {
    "tags": []
   },
   "outputs": [
    {
     "data": {
      "text/plain": [
       "'1.1 kilobytes'"
      ]
     },
     "execution_count": 97,
     "metadata": {},
     "output_type": "execute_result"
    }
   ],
   "source": [
    "'''\n",
    "Human-readable bytes\n",
    "\n",
    "Write a function that takes one input (int) that represents a number of bytes\n",
    "and outputs a human-readable version, rounded to 2 decimal points and with\n",
    "the correct SI prefix\n",
    "\n",
    "Example\n",
    "human_readable_bytes(120) -> '120 bytes'\n",
    "human_readable_bytes(1_400) -> '1.4 kilobytes'\n",
    "human_readable_bytes(1_200_000) -> '1.2 megabytes'\n",
    "human_readable_bytes(1_257_894) -> '1.26 megabytes'\n",
    "\n",
    "- how to round the number of bytes\n",
    "- how to tell what prefix to use\n",
    "- how to format the output with the unit\n",
    "- how many prefixes do we support\n",
    "\n",
    "Note\n",
    "- how to deal with \"just bytes\"\n",
    "'''\n",
    "\n",
    "num_bytes = 1100\n",
    "prefixes = {\n",
    "    1: '',\n",
    "    1_000: 'kilo',\n",
    "    1_000_000: 'mega',\n",
    "    1_000_000_000: 'giga',\n",
    "    1_000_000_000_000: 'tera'\n",
    "}\n",
    "\n",
    "normalized_number = num_bytes\n",
    "appropriate_prefix = None\n",
    "for byte_amount, prefix in prefixes.items():\n",
    "    result = num_bytes / byte_amount\n",
    "    if (result < 1000) and (result >= 1):\n",
    "        appropriate_prefix = prefix\n",
    "        normalized_number = result\n",
    "        break\n",
    "\n",
    "is_exactly_1 = normalized_number == 1\n",
    "f'{round(normalized_number, 2)} {appropriate_prefix}byte{\"s\" if not is_exactly_1 else \"\"}'"
   ]
  },
  {
   "cell_type": "code",
   "execution_count": 69,
   "id": "f2f1c526-82c7-4b29-a7e9-4736f4c07362",
   "metadata": {
    "tags": []
   },
   "outputs": [
    {
     "data": {
      "text/plain": [
       "0.0014"
      ]
     },
     "execution_count": 69,
     "metadata": {},
     "output_type": "execute_result"
    }
   ],
   "source": [
    "1400 / 1000000"
   ]
  },
  {
   "cell_type": "code",
   "execution_count": 70,
   "id": "0adbedaa-42ce-4e73-9657-e567ece923cf",
   "metadata": {
    "tags": []
   },
   "outputs": [
    {
     "data": {
      "text/plain": [
       "1200.0"
      ]
     },
     "execution_count": 70,
     "metadata": {},
     "output_type": "execute_result"
    }
   ],
   "source": [
    "1_200_000 / 1000"
   ]
  },
  {
   "cell_type": "code",
   "execution_count": 71,
   "id": "660882a6-2cf5-47c8-ac6e-689cbdb6fc59",
   "metadata": {
    "tags": []
   },
   "outputs": [
    {
     "data": {
      "text/plain": [
       "1.2"
      ]
     },
     "execution_count": 71,
     "metadata": {},
     "output_type": "execute_result"
    }
   ],
   "source": [
    "1_200_000 / 1_000_000"
   ]
  },
  {
   "cell_type": "code",
   "execution_count": null,
   "id": "21e09c24-4f14-412a-ae9a-e8c6e36d4785",
   "metadata": {},
   "outputs": [],
   "source": [
    "def human_readable_bytes(b):\n",
    "    prefixes = {\n",
    "        3: 'kilo',\n",
    "        6: 'mega',\n",
    "        9: 'giga',\n",
    "        12: 'tera',\n",
    "    }\n",
    "    times_divided = 0\n",
    "    rem = b\n",
    "    while True:\n",
    "        if rem < 1000:\n",
    "            break\n",
    "        rem = rem / 1000\n",
    "        times_divided += 1\n",
    "    prefix = prefixes.get(times_divided * 3)\n",
    "    if prefix:\n",
    "        return f'{round(rem, 2)} {prefix}bytes'\n",
    "    return f'{round(rem, 2)} bytes'"
   ]
  }
 ],
 "metadata": {
  "kernelspec": {
   "display_name": "Python 3 (ipykernel)",
   "language": "python",
   "name": "python3"
  },
  "language_info": {
   "codemirror_mode": {
    "name": "ipython",
    "version": 3
   },
   "file_extension": ".py",
   "mimetype": "text/x-python",
   "name": "python",
   "nbconvert_exporter": "python",
   "pygments_lexer": "ipython3",
   "version": "3.10.10"
  }
 },
 "nbformat": 4,
 "nbformat_minor": 5
}
